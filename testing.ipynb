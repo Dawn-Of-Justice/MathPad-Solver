{
 "cells": [
  {
   "cell_type": "markdown",
   "metadata": {},
   "source": [
    "# For recognition"
   ]
  },
  {
   "cell_type": "code",
   "execution_count": 1,
   "metadata": {},
   "outputs": [
    {
     "name": "stdout",
     "output_type": "stream",
     "text": [
      "Recognized and cleaned equation: X+16=8\n"
     ]
    }
   ],
   "source": [
    "from recognition import ocr_recog\n",
    "from solver import solve_equation\n",
    "\n",
    "def main():\n",
    "    image_path = r'captured_image.png'\n",
    "    recognized_text = ocr_recog(image_path)\n",
    "    print(f\"Recognized and cleaned equation: {recognized_text}\")\n",
    "\n",
    "if __name__ == \"__main__\":\n",
    "    main()"
   ]
  },
  {
   "cell_type": "markdown",
   "metadata": {},
   "source": [
    "# For Evaluation"
   ]
  },
  {
   "cell_type": "code",
   "execution_count": 2,
   "metadata": {},
   "outputs": [
    {
     "name": "stdout",
     "output_type": "stream",
     "text": [
      "Equation: 2*x + 3  =\n",
      "Solutions: 2.0*x + 3.0\n",
      "Equation: x + 7 = 5\n",
      "Solutions: [-2]\n",
      "Equation: x**2 - 4 = 0\n",
      "Solutions: [-2, 2]\n",
      "Equation: 3 + 4 =\n",
      "Solutions: 7.00000000000000\n"
     ]
    }
   ],
   "source": [
    "from solver.calculator import solve_equation\n",
    "from solver.parser import parse_and_solve_equation\n",
    "\n",
    "def test_solve_equation():\n",
    "    equations = [\n",
    "        \"2*x + 3  =\",\n",
    "        \"x + 7 = 5\",\n",
    "        \"x**2 - 4 = 0\",\n",
    "        #\"x + y = 10\",  # This requires additional equations to solve\n",
    "        \"3 + 4 =\"\n",
    "    ]\n",
    "    \n",
    "    for equation in equations:\n",
    "        try:\n",
    "            solutions = parse_and_solve_equation(equation)\n",
    "            print(f\"Equation: {equation}\")\n",
    "            print(f\"Solutions: {solutions}\")\n",
    "        except Exception as e:\n",
    "            print(f\"Error solving equation '{equation}': {e}\")\n",
    "\n",
    "if __name__ == \"__main__\":\n",
    "    test_solve_equation()\n"
   ]
  },
  {
   "cell_type": "markdown",
   "metadata": {},
   "source": [
    "# Testing CNN Model"
   ]
  },
  {
   "cell_type": "code",
   "execution_count": 1,
   "metadata": {},
   "outputs": [
    {
     "name": "stderr",
     "output_type": "stream",
     "text": [
      "WARNING:absl:Compiled the loaded model, but the compiled metrics have yet to be built. `model.compile_metrics` will be empty until you train or evaluate the model.\n"
     ]
    }
   ],
   "source": [
    "from recognition import HandwrittenEquationSegmenter\n",
    "from tensorflow.keras.models import load_model # type: ignore\n",
    "loaded_model = load_model(r'C:\\Users\\salos\\MathPad-Solver\\recognition\\custom_model\\my_model.h5')\n",
    "segmenter = HandwrittenEquationSegmenter()"
   ]
  },
  {
   "cell_type": "code",
   "execution_count": 4,
   "metadata": {},
   "outputs": [
    {
     "data": {
      "image/png": "[encoded data removed]",
      "text/plain": [
       "<Figure size 1200x600 with 5 Axes>"
      ]
     },
     "metadata": {},
     "output_type": "display_data"
    },
    {
     "name": "stdout",
     "output_type": "stream",
     "text": [
      "['2', 'add', '5', '1', 'sub']\n"
     ]
    }
   ],
   "source": [
    "segmented_equations = segmenter.process_image(r'C:\\Users\\salos\\MathPad-Solver\\captured_image.png',loaded_model, debug=True)"
   ]
  },
  {
   "cell_type": "code",
   "execution_count": null,
   "metadata": {},
   "outputs": [],
   "source": []
  }
 ],
 "metadata": {
  "kernelspec": {
   "display_name": "mathsolver",
   "language": "python",
   "name": "python3"
  },
  "language_info": {
   "codemirror_mode": {
    "name": "ipython",
    "version": 3
   },
   "file_extension": ".py",
   "mimetype": "text/x-python",
   "name": "python",
   "nbconvert_exporter": "python",
   "pygments_lexer": "ipython3",
   "version": "3.10.11"
  }
 },
 "nbformat": 4,
 "nbformat_minor": 2
}
