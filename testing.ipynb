{
 "cells": [
  {
   "cell_type": "markdown",
   "metadata": {},
   "source": [
    "# For recognition"
   ]
  },
  {
   "cell_type": "code",
   "execution_count": 1,
   "metadata": {},
   "outputs": [
    {
     "name": "stdout",
     "output_type": "stream",
     "text": [
      "Recognized and cleaned equation: MOKAA\n"
     ]
    }
   ],
   "source": [
    "from recognition import ocr_recog\n",
    "from solver import solve_equation\n",
    "\n",
    "def main():\n",
    "    image_path = r'captured_image.png'\n",
    "    recognized_text = ocr_recog(image_path)\n",
    "    print(f\"Recognized and cleaned equation: {recognized_text}\")\n",
    "\n",
    "if __name__ == \"__main__\":\n",
    "    main()"
   ]
  },
  {
   "cell_type": "markdown",
   "metadata": {},
   "source": [
    "# For Evaluation"
   ]
  },
  {
   "cell_type": "code",
   "execution_count": 14,
   "metadata": {},
   "outputs": [
    {
     "name": "stdout",
     "output_type": "stream",
     "text": [
      "Equation: 2*x + 3  =\n",
      "Solutions: 2.0*x + 3.0\n",
      "Equation: x - 4 = 2\n",
      "Solutions: [6]\n",
      "Equation: x**2 - 4 = 0\n",
      "Solutions: [-2, 2]\n",
      "Equation: 3 + 4 =\n",
      "Solutions: 7.00000000000000\n"
     ]
    }
   ],
   "source": [
    "from solver.calculator import solve_equation\n",
    "from solver.parser import parse_and_solve_equation\n",
    "\n",
    "def test_solve_equation():\n",
    "    equations = [\n",
    "        \"2*x + 3  =\",\n",
    "        \"x - 4 = 2\",\n",
    "        \"x**2 - 4 = 0\",\n",
    "        #\"x + y = 10\",  # This requires additional equations to solve\n",
    "        \"3 + 4 =\"\n",
    "    ]\n",
    "    \n",
    "    for equation in equations:\n",
    "        try:\n",
    "            solutions = parse_and_solve_equation(equation)\n",
    "            print(f\"Equation: {equation}\")\n",
    "            print(f\"Solutions: {solutions}\")\n",
    "        except Exception as e:\n",
    "            print(f\"Error solving equation '{equation}': {e}\")\n",
    "\n",
    "if __name__ == \"__main__\":\n",
    "    test_solve_equation()\n"
   ]
  },
  {
   "cell_type": "code",
   "execution_count": null,
   "metadata": {},
   "outputs": [],
   "source": []
  }
 ],
 "metadata": {
  "kernelspec": {
   "display_name": "mathsolver",
   "language": "python",
   "name": "python3"
  },
  "language_info": {
   "codemirror_mode": {
    "name": "ipython",
    "version": 3
   },
   "file_extension": ".py",
   "mimetype": "text/x-python",
   "name": "python",
   "nbconvert_exporter": "python",
   "pygments_lexer": "ipython3",
   "version": "3.10.11"
  }
 },
 "nbformat": 4,
 "nbformat_minor": 2
}
